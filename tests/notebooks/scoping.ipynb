{
 "cells": [
  {
   "cell_type": "code",
   "execution_count": 4,
   "id": "96bc8b7f",
   "metadata": {},
   "outputs": [
    {
     "name": "stdout",
     "output_type": "stream",
     "text": [
      "The autoreload extension is already loaded. To reload it, use:\n",
      "  %reload_ext autoreload\n",
      "\u001b[1m\u001b[32m    Finished\u001b[0m `dev` profile [unoptimized + debuginfo] target(s) in 0.09s\n",
      "\u001b[1m\u001b[32m     Running\u001b[0m `/home/jgoppert/git/rumoca_parol/target/debug/rumoca ../models/package.mo test.Integrator -t ../templates/sympy.jinja`\n",
      "\n",
      "thread 'main' panicked at src/ir/flatten.rs:34:51:\n",
      "Main class not found\n",
      "stack backtrace:\n",
      "   0: rust_begin_unwind\n",
      "             at /rustc/48a426eca9df23b24b3559e545cf88dee61d4de9/library/std/src/panicking.rs:692:5\n",
      "   1: core::panicking::panic_fmt\n",
      "             at /rustc/48a426eca9df23b24b3559e545cf88dee61d4de9/library/core/src/panicking.rs:75:14\n",
      "   2: core::panicking::panic_display\n",
      "             at /rustc/48a426eca9df23b24b3559e545cf88dee61d4de9/library/core/src/panicking.rs:261:5\n",
      "   3: core::option::expect_failed\n",
      "             at /rustc/48a426eca9df23b24b3559e545cf88dee61d4de9/library/core/src/option.rs:2024:5\n",
      "   4: core::option::Option<T>::expect\n",
      "             at /home/jgoppert/.rustup/toolchains/nightly-x86_64-unknown-linux-gnu/lib/rustlib/src/rust/library/core/src/option.rs:933:21\n",
      "   5: rumoca::ir::flatten::flatten\n",
      "             at /home/jgoppert/git/rumoca_parol/src/ir/flatten.rs:34:22\n",
      "   6: rumoca::main\n",
      "             at /home/jgoppert/git/rumoca_parol/src/main.rs:91:30\n",
      "   7: core::ops::function::FnOnce::call_once\n",
      "             at /home/jgoppert/.rustup/toolchains/nightly-x86_64-unknown-linux-gnu/lib/rustlib/src/rust/library/core/src/ops/function.rs:250:5\n",
      "note: Some details are omitted, run with `RUST_BACKTRACE=full` for a verbose backtrace.\n"
     ]
    }
   ],
   "source": [
    "%load_ext autoreload\n",
    "%autoreload 2\n",
    "!RUST_BACKTRACE=1 cargo run -- ../models/package.mo test.Integrator -t ../templates/sympy.jinja > package_sympy.py"
   ]
  },
  {
   "cell_type": "code",
   "execution_count": null,
   "id": "fd96e58f",
   "metadata": {},
   "outputs": [],
   "source": []
  },
  {
   "cell_type": "markdown",
   "id": "3fde5799",
   "metadata": {},
   "source": []
  }
 ],
 "metadata": {
  "kernelspec": {
   "display_name": ".venv",
   "language": "python",
   "name": "python3"
  },
  "language_info": {
   "codemirror_mode": {
    "name": "ipython",
    "version": 3
   },
   "file_extension": ".py",
   "mimetype": "text/x-python",
   "name": "python",
   "nbconvert_exporter": "python",
   "pygments_lexer": "ipython3",
   "version": "3.12.3"
  }
 },
 "nbformat": 4,
 "nbformat_minor": 5
}
